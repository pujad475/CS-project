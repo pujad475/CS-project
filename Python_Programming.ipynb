{
  "nbformat": 4,
  "nbformat_minor": 0,
  "metadata": {
    "colab": {
      "provenance": [],
      "authorship_tag": "ABX9TyOXw0rBq5nl+EjJYo2MBqCX",
      "include_colab_link": true
    },
    "kernelspec": {
      "name": "python3",
      "display_name": "Python 3"
    },
    "language_info": {
      "name": "python"
    }
  },
  "cells": [
    {
      "cell_type": "markdown",
      "metadata": {
        "id": "view-in-github",
        "colab_type": "text"
      },
      "source": [
        "<a href=\"https://colab.research.google.com/github/pujad475/CS-project/blob/main/Python_Programming.ipynb\" target=\"_parent\"><img src=\"https://colab.research.google.com/assets/colab-badge.svg\" alt=\"Open In Colab\"/></a>"
      ]
    },
    {
      "cell_type": "code",
      "execution_count": null,
      "metadata": {
        "colab": {
          "base_uri": "https://localhost:8080/"
        },
        "id": "QoxeUG5eRCTg",
        "outputId": "d9839809-f65b-4ec3-f2c6-3104f29acb5b"
      },
      "outputs": [
        {
          "output_type": "stream",
          "name": "stdout",
          "text": [
            "Hello World\n"
          ]
        }
      ],
      "source": [
        "#We don't need any header files in python\n",
        "# How to print in python\n",
        "print(\"Hello World\")"
      ]
    },
    {
      "cell_type": "code",
      "source": [
        "print(6)"
      ],
      "metadata": {
        "colab": {
          "base_uri": "https://localhost:8080/"
        },
        "id": "xNHtnEmeSzDb",
        "outputId": "52c3a9c8-6204-4879-84a7-0c8176d32e46"
      },
      "execution_count": null,
      "outputs": [
        {
          "output_type": "stream",
          "name": "stdout",
          "text": [
            "6\n"
          ]
        }
      ]
    },
    {
      "cell_type": "code",
      "source": [
        "print(5.6)"
      ],
      "metadata": {
        "colab": {
          "base_uri": "https://localhost:8080/"
        },
        "id": "XjEtk8lRS4lu",
        "outputId": "0426f463-d1a2-4960-c32f-f800df725e7f"
      },
      "execution_count": null,
      "outputs": [
        {
          "output_type": "stream",
          "name": "stdout",
          "text": [
            "5.6\n"
          ]
        }
      ]
    },
    {
      "cell_type": "code",
      "source": [
        "print(False)"
      ],
      "metadata": {
        "colab": {
          "base_uri": "https://localhost:8080/"
        },
        "id": "ztcbAnpCS7iR",
        "outputId": "a5c908f5-67ac-4a20-a1b6-49ee6cc739c4"
      },
      "execution_count": null,
      "outputs": [
        {
          "output_type": "stream",
          "name": "stdout",
          "text": [
            "False\n"
          ]
        }
      ]
    },
    {
      "cell_type": "code",
      "source": [
        "print(\"India\", \"Pakistan\", \"Nepal\", \"Shrilanka\")"
      ],
      "metadata": {
        "colab": {
          "base_uri": "https://localhost:8080/"
        },
        "id": "gA0NdB7IfQFV",
        "outputId": "5b8cf258-7c46-4644-a267-7a63dcfe77f2"
      },
      "execution_count": null,
      "outputs": [
        {
          "output_type": "stream",
          "name": "stdout",
          "text": [
            "India Pakistan Nepal Shrilanka\n"
          ]
        }
      ]
    },
    {
      "cell_type": "code",
      "source": [
        "print(\"India\", 5 , True)"
      ],
      "metadata": {
        "colab": {
          "base_uri": "https://localhost:8080/"
        },
        "id": "mjn_12Wxfap1",
        "outputId": "ce3dd514-cbed-4253-ae8f-e8d781158d4a"
      },
      "execution_count": null,
      "outputs": [
        {
          "output_type": "stream",
          "name": "stdout",
          "text": [
            "India 5 True\n"
          ]
        }
      ]
    },
    {
      "cell_type": "code",
      "source": [
        "print(\"India\", \"Pakistan\", \"Nepal\", \"Shrilanka\", sep='/')"
      ],
      "metadata": {
        "colab": {
          "base_uri": "https://localhost:8080/"
        },
        "id": "fxaGDNZOff-e",
        "outputId": "e807b7ca-4fea-4fa7-caff-ae98ea3b5de3"
      },
      "execution_count": null,
      "outputs": [
        {
          "output_type": "stream",
          "name": "stdout",
          "text": [
            "India/Pakistan/Nepal/Shrilanka\n"
          ]
        }
      ]
    },
    {
      "cell_type": "code",
      "source": [
        "print(\"India\", \"Pakistan\", \"Nepal\", \"Shrilanka\", sep='-')"
      ],
      "metadata": {
        "colab": {
          "base_uri": "https://localhost:8080/"
        },
        "id": "AKWAvAYehJ9R",
        "outputId": "e11d3db1-df37-40d3-f434-edebd1f41336"
      },
      "execution_count": null,
      "outputs": [
        {
          "output_type": "stream",
          "name": "stdout",
          "text": [
            "India-Pakistan-Nepal-Shrilanka\n"
          ]
        }
      ]
    },
    {
      "cell_type": "code",
      "source": [
        "#IThere is no limit for integer\n",
        "print(7478838847748883999377466778999999454334)\n",
        "print(1e309)"
      ],
      "metadata": {
        "colab": {
          "base_uri": "https://localhost:8080/"
        },
        "id": "L1zZthczHSkD",
        "outputId": "bc79761b-14f4-4d80-e632-27e1352b6f39"
      },
      "execution_count": null,
      "outputs": [
        {
          "output_type": "stream",
          "name": "stdout",
          "text": [
            "7478838847748883999377466778999999454334\n",
            "inf\n"
          ]
        }
      ]
    },
    {
      "cell_type": "code",
      "source": [
        "#Float\n",
        "print(4.8987)\n",
        "#Boolean\n",
        "print(True)\n",
        "#Complex\n",
        "print(4+5j)\n",
        "#String\n",
        "print(\"Bangladesh\")"
      ],
      "metadata": {
        "colab": {
          "base_uri": "https://localhost:8080/"
        },
        "id": "0XusB7lKH0OX",
        "outputId": "5f966709-c686-4953-da91-ce582e1c50ad"
      },
      "execution_count": null,
      "outputs": [
        {
          "output_type": "stream",
          "name": "stdout",
          "text": [
            "4.8987\n",
            "True\n",
            "(4+5j)\n",
            "Bangladesh\n"
          ]
        }
      ]
    },
    {
      "cell_type": "code",
      "source": [
        "#List\n",
        "print([1,2,3,4,5])\n",
        "#Tuple\n",
        "print((1,2,3,4,5))\n",
        "#Sets\n",
        "print({1,2,3,4,5})\n",
        "#Dictionary\n",
        "print({\"Name\" : \"Puja\", \"Age\" : 30, \"Gender\" : \"Female\"})"
      ],
      "metadata": {
        "colab": {
          "base_uri": "https://localhost:8080/"
        },
        "id": "N7TS5VyvIQY3",
        "outputId": "a8083ea7-09d9-42e2-ca49-ae24919ef38a"
      },
      "execution_count": null,
      "outputs": [
        {
          "output_type": "stream",
          "name": "stdout",
          "text": [
            "[1, 2, 3, 4, 5]\n",
            "(1, 2, 3, 4, 5)\n",
            "{1, 2, 3, 4, 5}\n",
            "{'Name': 'Puja', 'Age': 30, 'Gender': 'Female'}\n"
          ]
        }
      ]
    },
    {
      "cell_type": "code",
      "source": [
        "#Variables\n",
        "#We don't need any variable declaration\n",
        "name = \"Puja\"\n",
        "print(name)\n"
      ],
      "metadata": {
        "colab": {
          "base_uri": "https://localhost:8080/"
        },
        "id": "XJ0EQgOKdQvm",
        "outputId": "67d492f1-f5ad-4612-8c7f-b9a7ae830642"
      },
      "execution_count": null,
      "outputs": [
        {
          "output_type": "stream",
          "name": "stdout",
          "text": [
            "Puja\n"
          ]
        }
      ]
    },
    {
      "cell_type": "code",
      "source": [
        "#Dynamic Typing(you don't have to declare the datatype in python)\n",
        "#Dynamic Binding(A variable can store multiple datatype)\n",
        "name = True\n",
        "print(name)\n",
        "#Static binding(you can't change the variable)\n",
        "\n"
      ],
      "metadata": {
        "colab": {
          "base_uri": "https://localhost:8080/"
        },
        "id": "-uQGEbiGd9Ua",
        "outputId": "66a41d11-6c8a-49ba-bfa0-70d52c3db58a"
      },
      "execution_count": null,
      "outputs": [
        {
          "output_type": "stream",
          "name": "stdout",
          "text": [
            "True\n"
          ]
        }
      ]
    }
  ]
}